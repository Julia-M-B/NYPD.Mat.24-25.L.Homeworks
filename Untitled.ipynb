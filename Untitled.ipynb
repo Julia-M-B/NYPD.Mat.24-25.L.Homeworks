{
 "cells": [
  {
   "cell_type": "code",
   "execution_count": 13,
   "id": "5f57b2f4-1006-48ae-87c8-0ea817c18049",
   "metadata": {},
   "outputs": [
    {
     "name": "stdout",
     "output_type": "stream",
     "text": [
      "Collecting matplotlib-inline\n",
      "  Using cached matplotlib_inline-0.1.7-py3-none-any.whl (9.9 kB)\n",
      "Collecting traitlets\n",
      "  Using cached traitlets-5.14.3-py3-none-any.whl (85 kB)\n",
      "Installing collected packages: traitlets, matplotlib-inline\n",
      "Successfully installed matplotlib-inline-0.1.7 traitlets-5.14.3\n",
      "Processing ./krakowbike-project\n",
      "  Installing build dependencies ... \u001b[?25ldone\n",
      "\u001b[?25h  Getting requirements to build wheel ... \u001b[?25ldone\n",
      "\u001b[?25h  Preparing metadata (pyproject.toml) ... \u001b[?25ldone\n",
      "\u001b[?25hRequirement already satisfied: matplotlib>=3.10.3 in ./venv/lib/python3.10/site-packages (from krakowbike==1.0) (3.10.3)\n",
      "Requirement already satisfied: pytest>=8.4.0 in ./venv/lib/python3.10/site-packages (from krakowbike==1.0) (8.4.0)\n",
      "Requirement already satisfied: pandas>=2.3.0 in ./venv/lib/python3.10/site-packages (from krakowbike==1.0) (2.3.0)\n",
      "Requirement already satisfied: numpy>=2.2.6 in ./venv/lib/python3.10/site-packages (from krakowbike==1.0) (2.2.6)\n",
      "Requirement already satisfied: seaborn>=0.13.2 in ./venv/lib/python3.10/site-packages (from krakowbike==1.0) (0.13.2)\n",
      "Requirement already satisfied: Jinja2>=3.1.6 in ./venv/lib/python3.10/site-packages (from krakowbike==1.0) (3.1.6)\n",
      "Requirement already satisfied: MarkupSafe>=2.0 in ./venv/lib/python3.10/site-packages (from Jinja2>=3.1.6->krakowbike==1.0) (3.0.2)\n",
      "Requirement already satisfied: kiwisolver>=1.3.1 in ./venv/lib/python3.10/site-packages (from matplotlib>=3.10.3->krakowbike==1.0) (1.4.8)\n",
      "Requirement already satisfied: pillow>=8 in ./venv/lib/python3.10/site-packages (from matplotlib>=3.10.3->krakowbike==1.0) (11.3.0)\n",
      "Requirement already satisfied: python-dateutil>=2.7 in ./venv/lib/python3.10/site-packages (from matplotlib>=3.10.3->krakowbike==1.0) (2.9.0.post0)\n",
      "Requirement already satisfied: fonttools>=4.22.0 in ./venv/lib/python3.10/site-packages (from matplotlib>=3.10.3->krakowbike==1.0) (4.58.4)\n",
      "Requirement already satisfied: cycler>=0.10 in ./venv/lib/python3.10/site-packages (from matplotlib>=3.10.3->krakowbike==1.0) (0.12.1)\n",
      "Requirement already satisfied: pyparsing>=2.3.1 in ./venv/lib/python3.10/site-packages (from matplotlib>=3.10.3->krakowbike==1.0) (3.2.3)\n",
      "Requirement already satisfied: packaging>=20.0 in ./venv/lib/python3.10/site-packages (from matplotlib>=3.10.3->krakowbike==1.0) (25.0)\n",
      "Requirement already satisfied: contourpy>=1.0.1 in ./venv/lib/python3.10/site-packages (from matplotlib>=3.10.3->krakowbike==1.0) (1.3.2)\n",
      "Requirement already satisfied: tzdata>=2022.7 in ./venv/lib/python3.10/site-packages (from pandas>=2.3.0->krakowbike==1.0) (2025.2)\n",
      "Requirement already satisfied: pytz>=2020.1 in ./venv/lib/python3.10/site-packages (from pandas>=2.3.0->krakowbike==1.0) (2025.2)\n",
      "Requirement already satisfied: pluggy<2,>=1.5 in ./venv/lib/python3.10/site-packages (from pytest>=8.4.0->krakowbike==1.0) (1.6.0)\n",
      "Requirement already satisfied: pygments>=2.7.2 in ./venv/lib/python3.10/site-packages (from pytest>=8.4.0->krakowbike==1.0) (2.19.1)\n",
      "Requirement already satisfied: iniconfig>=1 in ./venv/lib/python3.10/site-packages (from pytest>=8.4.0->krakowbike==1.0) (2.1.0)\n",
      "Requirement already satisfied: tomli>=1 in ./venv/lib/python3.10/site-packages (from pytest>=8.4.0->krakowbike==1.0) (2.2.1)\n",
      "Requirement already satisfied: exceptiongroup>=1 in ./venv/lib/python3.10/site-packages (from pytest>=8.4.0->krakowbike==1.0) (1.3.0)\n",
      "Requirement already satisfied: typing-extensions>=4.6.0 in ./venv/lib/python3.10/site-packages (from exceptiongroup>=1->pytest>=8.4.0->krakowbike==1.0) (4.14.0)\n",
      "Requirement already satisfied: six>=1.5 in ./venv/lib/python3.10/site-packages (from python-dateutil>=2.7->matplotlib>=3.10.3->krakowbike==1.0) (1.17.0)\n",
      "Building wheels for collected packages: krakowbike\n",
      "  Building wheel for krakowbike (pyproject.toml) ... \u001b[?25ldone\n",
      "\u001b[?25h  Created wheel for krakowbike: filename=krakowbike-1.0-py3-none-any.whl size=40577 sha256=7c9f797660dab982ae981630dad9353667737ba2ce0c1380f1bba39939333866\n",
      "  Stored in directory: /home/julia/.cache/pip/wheels/bf/33/a3/bfa2d6b9dcd9d1b2ff8c8a3508f9eea98857b87a8976213052\n",
      "Successfully built krakowbike\n",
      "Installing collected packages: krakowbike\n",
      "  Attempting uninstall: krakowbike\n",
      "    Found existing installation: krakowbike 1.0\n",
      "    Uninstalling krakowbike-1.0:\n",
      "      Successfully uninstalled krakowbike-1.0\n",
      "Successfully installed krakowbike-1.0\n"
     ]
    }
   ],
   "source": [
    "!pip install matplotlib-inline\n",
    "!pip install ./krakowbike-project"
   ]
  },
  {
   "cell_type": "code",
   "execution_count": 14,
   "id": "e917c15d-fb2d-4190-b77a-f0ca7c2d2fe1",
   "metadata": {},
   "outputs": [
    {
     "name": "stdout",
     "output_type": "stream",
     "text": [
      "Traceback (most recent call last):\n",
      "  File \"/home/julia/Desktop/Semestr 4/Python_mimuw/venv/bin/genreport\", line 10, in <module>\n",
      "    sys.exit(main())\n",
      "  File \"/home/julia/Desktop/Semestr 4/Python_mimuw/venv/lib/python3.10/site-packages/src/krakowbike/__main__.py\", line 48, in main\n",
      "    krakow_data = generate_data_for_html_report(args.project_path,\n",
      "  File \"/home/julia/Desktop/Semestr 4/Python_mimuw/venv/lib/python3.10/site-packages/src/krakowbike/__main__.py\", line 21, in generate_data_for_html_report\n",
      "    daily_traffic_plot = plot_total_daily_traffic(df, save_plot=True)\n",
      "  File \"/home/julia/Desktop/Semestr 4/Python_mimuw/venv/lib/python3.10/site-packages/src/krakowbike/visualize_data.py\", line 13, in plot_total_daily_traffic\n",
      "    plt.figure(figsize=(15, 10))\n",
      "  File \"/home/julia/Desktop/Semestr 4/Python_mimuw/venv/lib/python3.10/site-packages/matplotlib/pyplot.py\", line 1042, in figure\n",
      "    manager = new_figure_manager(\n",
      "  File \"/home/julia/Desktop/Semestr 4/Python_mimuw/venv/lib/python3.10/site-packages/matplotlib/pyplot.py\", line 551, in new_figure_manager\n",
      "    _warn_if_gui_out_of_main_thread()\n",
      "  File \"/home/julia/Desktop/Semestr 4/Python_mimuw/venv/lib/python3.10/site-packages/matplotlib/pyplot.py\", line 528, in _warn_if_gui_out_of_main_thread\n",
      "    canvas_class = cast(type[FigureCanvasBase], _get_backend_mod().FigureCanvas)\n",
      "  File \"/home/julia/Desktop/Semestr 4/Python_mimuw/venv/lib/python3.10/site-packages/matplotlib/pyplot.py\", line 369, in _get_backend_mod\n",
      "    switch_backend(rcParams._get(\"backend\"))\n",
      "  File \"/home/julia/Desktop/Semestr 4/Python_mimuw/venv/lib/python3.10/site-packages/matplotlib/pyplot.py\", line 425, in switch_backend\n",
      "    module = backend_registry.load_backend_module(newbackend)\n",
      "  File \"/home/julia/Desktop/Semestr 4/Python_mimuw/venv/lib/python3.10/site-packages/matplotlib/backends/registry.py\", line 317, in load_backend_module\n",
      "    return importlib.import_module(module_name)\n",
      "  File \"/usr/lib/python3.10/importlib/__init__.py\", line 126, in import_module\n",
      "    return _bootstrap._gcd_import(name[level:], package, level)\n",
      "  File \"<frozen importlib._bootstrap>\", line 1050, in _gcd_import\n",
      "  File \"<frozen importlib._bootstrap>\", line 1027, in _find_and_load\n",
      "  File \"<frozen importlib._bootstrap>\", line 992, in _find_and_load_unlocked\n",
      "  File \"<frozen importlib._bootstrap>\", line 241, in _call_with_frames_removed\n",
      "  File \"<frozen importlib._bootstrap>\", line 1050, in _gcd_import\n",
      "  File \"<frozen importlib._bootstrap>\", line 1027, in _find_and_load\n",
      "  File \"<frozen importlib._bootstrap>\", line 1006, in _find_and_load_unlocked\n",
      "  File \"<frozen importlib._bootstrap>\", line 688, in _load_unlocked\n",
      "  File \"<frozen importlib._bootstrap_external>\", line 883, in exec_module\n",
      "  File \"<frozen importlib._bootstrap>\", line 241, in _call_with_frames_removed\n",
      "  File \"/home/julia/Desktop/Semestr 4/Python_mimuw/venv/lib/python3.10/site-packages/matplotlib_inline/__init__.py\", line 1, in <module>\n",
      "    from . import backend_inline, config  # noqa\n",
      "  File \"/home/julia/Desktop/Semestr 4/Python_mimuw/venv/lib/python3.10/site-packages/matplotlib_inline/backend_inline.py\", line 13, in <module>\n",
      "    from IPython.core.interactiveshell import InteractiveShell\n",
      "ModuleNotFoundError: No module named 'IPython'\n"
     ]
    }
   ],
   "source": [
    "!genreport -p ./krakowbike-project"
   ]
  },
  {
   "cell_type": "code",
   "execution_count": null,
   "id": "1918fc15-e72b-4f04-878f-6a772bb9b3aa",
   "metadata": {},
   "outputs": [],
   "source": []
  }
 ],
 "metadata": {
  "kernelspec": {
   "display_name": "Python 3 (ipykernel)",
   "language": "python",
   "name": "python3"
  },
  "language_info": {
   "codemirror_mode": {
    "name": "ipython",
    "version": 3
   },
   "file_extension": ".py",
   "mimetype": "text/x-python",
   "name": "python",
   "nbconvert_exporter": "python",
   "pygments_lexer": "ipython3",
   "version": "3.10.12"
  }
 },
 "nbformat": 4,
 "nbformat_minor": 5
}
